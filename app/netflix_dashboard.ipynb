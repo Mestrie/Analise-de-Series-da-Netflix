{
 "cells": [
  {
   "cell_type": "markdown",
   "id": "5651f0bb",
   "metadata": {},
   "source": [
    "### IMPORTANDO BIBLIOTECAS"
   ]
  },
  {
   "cell_type": "code",
   "execution_count": 8,
   "id": "26d02d48",
   "metadata": {},
   "outputs": [],
   "source": [
    "import streamlit as st\n",
    "import pandas as pd\n",
    "import matplotlib.pyplot as plt\n",
    "import seaborn as sns\n",
    "import plotly.express as px\n",
    "import os"
   ]
  },
  {
   "cell_type": "code",
   "execution_count": 9,
   "id": "2ca380de",
   "metadata": {},
   "outputs": [
    {
     "name": "stderr",
     "output_type": "stream",
     "text": [
      "2025-10-07 10:58:02.267 Thread 'MainThread': missing ScriptRunContext! This warning can be ignored when running in bare mode.\n"
     ]
    }
   ],
   "source": [
    "st.set_page_config(page_title=\"Análise Netflix\", page_icon=\"🎬\", layout=\"wide\")\n",
    "sns.set(style=\"whitegrid\")"
   ]
  },
  {
   "cell_type": "markdown",
   "id": "dedbba96",
   "metadata": {},
   "source": [
    "### CARREGAMENTO DE DADOS"
   ]
  },
  {
   "cell_type": "code",
   "execution_count": 10,
   "id": "62e23f04",
   "metadata": {},
   "outputs": [
    {
     "name": "stderr",
     "output_type": "stream",
     "text": [
      "2025-10-07 10:58:02.283 No runtime found, using MemoryCacheStorageManager\n",
      "2025-10-07 10:58:02.283 Thread 'MainThread': missing ScriptRunContext! This warning can be ignored when running in bare mode.\n",
      "2025-10-07 10:58:02.290 Thread 'MainThread': missing ScriptRunContext! This warning can be ignored when running in bare mode.\n",
      "2025-10-07 10:58:02.292 Thread 'MainThread': missing ScriptRunContext! This warning can be ignored when running in bare mode.\n",
      "2025-10-07 10:58:02.308 Thread 'MainThread': missing ScriptRunContext! This warning can be ignored when running in bare mode.\n",
      "2025-10-07 10:58:02.310 Thread 'MainThread': missing ScriptRunContext! This warning can be ignored when running in bare mode.\n",
      "2025-10-07 10:58:02.311 Thread 'MainThread': missing ScriptRunContext! This warning can be ignored when running in bare mode.\n",
      "2025-10-07 10:58:02.312 Thread 'MainThread': missing ScriptRunContext! This warning can be ignored when running in bare mode.\n",
      "2025-10-07 10:58:02.312 Thread 'MainThread': missing ScriptRunContext! This warning can be ignored when running in bare mode.\n",
      "2025-10-07 10:58:02.313 Thread 'MainThread': missing ScriptRunContext! This warning can be ignored when running in bare mode.\n",
      "2025-10-07 10:58:02.314 Thread 'MainThread': missing ScriptRunContext! This warning can be ignored when running in bare mode.\n",
      "2025-10-07 10:58:02.314 Thread 'MainThread': missing ScriptRunContext! This warning can be ignored when running in bare mode.\n",
      "2025-10-07 10:58:02.315 Thread 'MainThread': missing ScriptRunContext! This warning can be ignored when running in bare mode.\n",
      "2025-10-07 10:58:02.318 Thread 'MainThread': missing ScriptRunContext! This warning can be ignored when running in bare mode.\n",
      "2025-10-07 10:58:02.319 Thread 'MainThread': missing ScriptRunContext! This warning can be ignored when running in bare mode.\n",
      "2025-10-07 10:58:02.321 Thread 'MainThread': missing ScriptRunContext! This warning can be ignored when running in bare mode.\n",
      "2025-10-07 10:58:02.322 Thread 'MainThread': missing ScriptRunContext! This warning can be ignored when running in bare mode.\n",
      "2025-10-07 10:58:02.323 Thread 'MainThread': missing ScriptRunContext! This warning can be ignored when running in bare mode.\n",
      "2025-10-07 10:58:02.324 Thread 'MainThread': missing ScriptRunContext! This warning can be ignored when running in bare mode.\n",
      "2025-10-07 10:58:02.326 Thread 'MainThread': missing ScriptRunContext! This warning can be ignored when running in bare mode.\n",
      "2025-10-07 10:58:02.327 Thread 'MainThread': missing ScriptRunContext! This warning can be ignored when running in bare mode.\n",
      "2025-10-07 10:58:02.328 Thread 'MainThread': missing ScriptRunContext! This warning can be ignored when running in bare mode.\n",
      "2025-10-07 10:58:02.329 Thread 'MainThread': missing ScriptRunContext! This warning can be ignored when running in bare mode.\n"
     ]
    }
   ],
   "source": [
    "@st.cache_data\n",
    "def load_data():\n",
    "    df = pd.read_csv('../data/netflix_titles.csv')\n",
    "    df['date_added'] = pd.to_datetime(df['date_added'], errors='coerce')\n",
    "    df['year_added'] = df['date_added'].dt.year\n",
    "    df['main_genre'] = df['listed_in'].str.split(',').str[0]\n",
    "    return df\n",
    "\n",
    "df = load_data()\n",
    "\n",
    "st.title(\"🎬 Dashboard - Análise Exploratória da Netflix\")\n",
    "st.markdown(\"Visualize tendências de conteúdo, gêneros e países na plataforma Netflix.\")\n",
    "\n",
    "#FILTROS\n",
    "col1, col2 = st.columns(2)\n",
    "\n",
    "with col1:\n",
    "    tipo = st.multiselect(\"Filtrar por Tipo\", df['type'].unique(), default=df['type'].unique())\n",
    "\n",
    "with col2:\n",
    "    ano = st.slider(\"Ano de Lançamento\", int(df['release_year'].min()), int(df['release_year'].max()), (2010, 2020))\n",
    "\n",
    "# Aplicar filtros\n",
    "df_filtered = df[(df['type'].isin(tipo)) & \n",
    "                 (df['release_year'].between(ano[0], ano[1]))]"
   ]
  },
  {
   "cell_type": "markdown",
   "id": "fd792978",
   "metadata": {},
   "source": [
    "### VISÃO GERAL E VISUALIZAÇÃO"
   ]
  },
  {
   "cell_type": "code",
   "execution_count": 11,
   "id": "9e248396",
   "metadata": {},
   "outputs": [
    {
     "name": "stderr",
     "output_type": "stream",
     "text": [
      "2025-10-07 10:58:02.348 Thread 'MainThread': missing ScriptRunContext! This warning can be ignored when running in bare mode.\n",
      "2025-10-07 10:58:02.349 Thread 'MainThread': missing ScriptRunContext! This warning can be ignored when running in bare mode.\n",
      "2025-10-07 10:58:02.350 Thread 'MainThread': missing ScriptRunContext! This warning can be ignored when running in bare mode.\n",
      "2025-10-07 10:58:02.351 Thread 'MainThread': missing ScriptRunContext! This warning can be ignored when running in bare mode.\n",
      "2025-10-07 10:58:02.352 Thread 'MainThread': missing ScriptRunContext! This warning can be ignored when running in bare mode.\n",
      "2025-10-07 10:58:02.353 Thread 'MainThread': missing ScriptRunContext! This warning can be ignored when running in bare mode.\n",
      "2025-10-07 10:58:02.354 Thread 'MainThread': missing ScriptRunContext! This warning can be ignored when running in bare mode.\n",
      "2025-10-07 10:58:02.354 Thread 'MainThread': missing ScriptRunContext! This warning can be ignored when running in bare mode.\n",
      "2025-10-07 10:58:02.357 Thread 'MainThread': missing ScriptRunContext! This warning can be ignored when running in bare mode.\n",
      "2025-10-07 10:58:02.359 Thread 'MainThread': missing ScriptRunContext! This warning can be ignored when running in bare mode.\n",
      "2025-10-07 10:58:02.361 Thread 'MainThread': missing ScriptRunContext! This warning can be ignored when running in bare mode.\n",
      "2025-10-07 10:58:02.362 Thread 'MainThread': missing ScriptRunContext! This warning can be ignored when running in bare mode.\n",
      "2025-10-07 10:58:02.362 Thread 'MainThread': missing ScriptRunContext! This warning can be ignored when running in bare mode.\n",
      "2025-10-07 10:58:02.363 Thread 'MainThread': missing ScriptRunContext! This warning can be ignored when running in bare mode.\n",
      "2025-10-07 10:58:02.364 Thread 'MainThread': missing ScriptRunContext! This warning can be ignored when running in bare mode.\n",
      "2025-10-07 10:58:02.365 Thread 'MainThread': missing ScriptRunContext! This warning can be ignored when running in bare mode.\n",
      "2025-10-07 10:58:02.365 Thread 'MainThread': missing ScriptRunContext! This warning can be ignored when running in bare mode.\n",
      "2025-10-07 10:58:02.366 Thread 'MainThread': missing ScriptRunContext! This warning can be ignored when running in bare mode.\n",
      "2025-10-07 10:58:02.367 Thread 'MainThread': missing ScriptRunContext! This warning can be ignored when running in bare mode.\n",
      "2025-10-07 10:58:02.409 Thread 'MainThread': missing ScriptRunContext! This warning can be ignored when running in bare mode.\n",
      "2025-10-07 10:58:02.417 Thread 'MainThread': missing ScriptRunContext! This warning can be ignored when running in bare mode.\n",
      "2025-10-07 10:58:02.417 Thread 'MainThread': missing ScriptRunContext! This warning can be ignored when running in bare mode.\n",
      "2025-10-07 10:58:02.417 Thread 'MainThread': missing ScriptRunContext! This warning can be ignored when running in bare mode.\n",
      "2025-10-07 10:58:02.425 Thread 'MainThread': missing ScriptRunContext! This warning can be ignored when running in bare mode.\n",
      "2025-10-07 10:58:02.426 Thread 'MainThread': missing ScriptRunContext! This warning can be ignored when running in bare mode.\n",
      "2025-10-07 10:58:02.482 Thread 'MainThread': missing ScriptRunContext! This warning can be ignored when running in bare mode.\n",
      "2025-10-07 10:58:02.485 Thread 'MainThread': missing ScriptRunContext! This warning can be ignored when running in bare mode.\n",
      "2025-10-07 10:58:02.487 Thread 'MainThread': missing ScriptRunContext! This warning can be ignored when running in bare mode.\n",
      "2025-10-07 10:58:02.488 Thread 'MainThread': missing ScriptRunContext! This warning can be ignored when running in bare mode.\n",
      "2025-10-07 10:58:02.489 Thread 'MainThread': missing ScriptRunContext! This warning can be ignored when running in bare mode.\n",
      "2025-10-07 10:58:02.491 Thread 'MainThread': missing ScriptRunContext! This warning can be ignored when running in bare mode.\n",
      "2025-10-07 10:58:02.525 Thread 'MainThread': missing ScriptRunContext! This warning can be ignored when running in bare mode.\n",
      "2025-10-07 10:58:02.525 Thread 'MainThread': missing ScriptRunContext! This warning can be ignored when running in bare mode.\n",
      "2025-10-07 10:58:02.525 Thread 'MainThread': missing ScriptRunContext! This warning can be ignored when running in bare mode.\n",
      "2025-10-07 10:58:02.525 Thread 'MainThread': missing ScriptRunContext! This warning can be ignored when running in bare mode.\n",
      "2025-10-07 10:58:02.525 Thread 'MainThread': missing ScriptRunContext! This warning can be ignored when running in bare mode.\n",
      "2025-10-07 10:58:02.525 Thread 'MainThread': missing ScriptRunContext! This warning can be ignored when running in bare mode.\n",
      "2025-10-07 10:58:02.560 Thread 'MainThread': missing ScriptRunContext! This warning can be ignored when running in bare mode.\n",
      "2025-10-07 10:58:02.561 Thread 'MainThread': missing ScriptRunContext! This warning can be ignored when running in bare mode.\n",
      "2025-10-07 10:58:02.562 Thread 'MainThread': missing ScriptRunContext! This warning can be ignored when running in bare mode.\n",
      "2025-10-07 10:58:02.563 Thread 'MainThread': missing ScriptRunContext! This warning can be ignored when running in bare mode.\n"
     ]
    }
   ],
   "source": [
    "st.header(\"📈 Visão Geral dos Dados\")\n",
    "\n",
    "col1, col2, col3 = st.columns(3)\n",
    "col1.metric(\"Total de Títulos\", len(df_filtered))\n",
    "col2.metric(\"Países Diferentes\", df_filtered['country'].nunique())\n",
    "col3.metric(\"Gêneros Principais\", df_filtered['main_genre'].nunique())\n",
    "\n",
    "tab1, tab2, tab3, tab4 = st.tabs([\"Tipo de Conteúdo\", \"Países\", \"Gêneros\", \"Tendência por Ano\"])\n",
    "\n",
    "with tab1:\n",
    "    st.subheader(\"Distribuição de Tipos de Conteúdo\")\n",
    "    type_counts = df_filtered['type'].value_counts()\n",
    "    fig = px.pie(values=type_counts.values, names=type_counts.index, color_discrete_sequence=px.colors.qualitative.Set3)\n",
    "    st.plotly_chart(fig, use_container_width=True)\n",
    "\n",
    "with tab2:\n",
    "    st.subheader(\"Top 10 Países com Mais Produções\")\n",
    "    top_countries = df_filtered['country'].value_counts().head(10)\n",
    "    fig = px.bar(x=top_countries.values, y=top_countries.index, orientation='h', color=top_countries.values,\n",
    "                 color_continuous_scale='reds', labels={'x':'Quantidade', 'y':'País'})\n",
    "    st.plotly_chart(fig, use_container_width=True)\n",
    "\n",
    "with tab3:\n",
    "    st.subheader(\"Gêneros Mais Comuns\")\n",
    "    top_genres = df_filtered['main_genre'].value_counts().head(10)\n",
    "    fig = px.bar(x=top_genres.index, y=top_genres.values, color=top_genres.values,\n",
    "                 color_continuous_scale='blues', labels={'x':'Gênero','y':'Quantidade'})\n",
    "    st.plotly_chart(fig, use_container_width=True)\n",
    "\n",
    "with tab4:\n",
    "    st.subheader(\"Evolução de Lançamentos por Ano\")\n",
    "    releases_per_year = df_filtered['release_year'].value_counts().sort_index()\n",
    "    fig = px.line(x=releases_per_year.index, y=releases_per_year.values, markers=True,\n",
    "                  labels={'x':'Ano','y':'Quantidade de Títulos'})\n",
    "    st.plotly_chart(fig, use_container_width=True)"
   ]
  },
  {
   "cell_type": "markdown",
   "id": "1579c443",
   "metadata": {},
   "source": [
    "### SERIES X FILMES "
   ]
  },
  {
   "cell_type": "code",
   "execution_count": 12,
   "id": "bc454433",
   "metadata": {},
   "outputs": [
    {
     "name": "stderr",
     "output_type": "stream",
     "text": [
      "2025-10-07 10:58:02.572 Thread 'MainThread': missing ScriptRunContext! This warning can be ignored when running in bare mode.\n",
      "2025-10-07 10:58:02.573 Thread 'MainThread': missing ScriptRunContext! This warning can be ignored when running in bare mode.\n",
      "2025-10-07 10:58:02.625 Thread 'MainThread': missing ScriptRunContext! This warning can be ignored when running in bare mode.\n",
      "2025-10-07 10:58:02.625 Thread 'MainThread': missing ScriptRunContext! This warning can be ignored when running in bare mode.\n",
      "2025-10-07 10:58:02.625 Thread 'MainThread': missing ScriptRunContext! This warning can be ignored when running in bare mode.\n",
      "2025-10-07 10:58:02.625 Thread 'MainThread': missing ScriptRunContext! This warning can be ignored when running in bare mode.\n",
      "2025-10-07 10:58:02.625 Thread 'MainThread': missing ScriptRunContext! This warning can be ignored when running in bare mode.\n",
      "2025-10-07 10:58:02.625 Thread 'MainThread': missing ScriptRunContext! This warning can be ignored when running in bare mode.\n",
      "2025-10-07 10:58:02.640 Thread 'MainThread': missing ScriptRunContext! This warning can be ignored when running in bare mode.\n",
      "2025-10-07 10:58:02.641 Thread 'MainThread': missing ScriptRunContext! This warning can be ignored when running in bare mode.\n"
     ]
    },
    {
     "data": {
      "text/plain": [
       "DeltaGenerator()"
      ]
     },
     "execution_count": 12,
     "metadata": {},
     "output_type": "execute_result"
    }
   ],
   "source": [
    "st.header(\"🎞️ Séries vs Filmes ao Longo dos Anos\")\n",
    "type_year = df_filtered.groupby(['release_year', 'type']).size().unstack().fillna(0)\n",
    "fig = px.line(type_year, x=type_year.index, y=type_year.columns, markers=True)\n",
    "st.plotly_chart(fig, use_container_width=True)\n",
    "st.markdown(\"---\")\n",
    "st.caption(\"Feito por Justino Felipe — Dados da Netflix (Kaggle)\")"
   ]
  }
 ],
 "metadata": {
  "kernelspec": {
   "display_name": "Python 3",
   "language": "python",
   "name": "python3"
  },
  "language_info": {
   "codemirror_mode": {
    "name": "ipython",
    "version": 3
   },
   "file_extension": ".py",
   "mimetype": "text/x-python",
   "name": "python",
   "nbconvert_exporter": "python",
   "pygments_lexer": "ipython3",
   "version": "3.12.2"
  }
 },
 "nbformat": 4,
 "nbformat_minor": 5
}
